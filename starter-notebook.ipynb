{
 "cells": [
  {
   "cell_type": "markdown",
   "id": "facc2413",
   "metadata": {},
   "source": [
    "## EXPLORE Data Science Academy Classification Hackathon\n",
    "\n",
    "### Honour Code\n",
    "\n",
    "I {**YINKA, AKINDELE**}, confirm - by submitting this document - that the solutions in this notebook are a result of my own work and that I abide by the [EDSA honour code](https://drive.google.com/file/d/1QDCjGZJ8-FmJE3bZdIQNwnJyQKPhHZBn/view?usp=sharing).\n",
    "\n",
    "Non-compliance with the honour code constitutes a material breach of contract.\n",
    "\n",
    "\n",
    "### Overview\n",
    "\n",
    "South Africa is a multicultural society that is characterised by its rich linguistic diversity. Language is an indispensable tool that can be used to deepen democracy and also contribute to the social, cultural, intellectual, economic and political life of the South African society.\n",
    "\n",
    "The country is multilingual with 11 official languages, each of which is guaranteed equal status. Most South Africans are multilingual and able to speak at least two or more of the official languages.\n",
    "\n",
    "With such a multilingual population, it is only obvious that our systems and devices also communicate in multi-languages.\n",
    "\n",
    "In this challenge, you will take text which is in any of South Africa's 11 Official languages and identify which language the text is in. This is an example of NLP's Language Identification, the task of determining the natural language that a piece of text is written in.\n"
   ]
  },
  {
   "cell_type": "markdown",
   "id": "05600c92",
   "metadata": {},
   "source": [
    "<a id=\"cont\"></a>\n",
    "\n",
    "## Table of Contents\n",
    "\n",
    "<a href=#one>1. Importing Packages</a>\n",
    "\n",
    "<a href=#two>2. Loading Data</a>\n",
    "\n",
    "<a href=#three>3. Exploratory Data Analysis (EDA)</a>\n",
    "\n",
    "<a href=#four>4. Data Engineering</a>\n",
    "\n",
    "<a href=#five>5. Modeling</a>\n",
    "\n",
    "<a href=#six>6. Model Performance</a>\n",
    "\n",
    "<a href=#seven>7. Logging to Comet</a>\n",
    "\n",
    "<a href=#eight>8. Submission</a>"
   ]
  },
  {
   "cell_type": "markdown",
   "id": "997462e2",
   "metadata": {},
   "source": [
    " <a id=\"one\"></a>\n",
    "## 1. Importing Packages\n",
    "<a href=#cont>Back to Table of Contents</a>"
   ]
  },
  {
   "cell_type": "code",
   "execution_count": 1,
   "id": "39cf7139",
   "metadata": {},
   "outputs": [],
   "source": [
    "# import comet_ml at the top of your file\n",
    "from comet_ml import Experiment\n"
   ]
  },
  {
   "cell_type": "code",
   "execution_count": 2,
   "id": "d701348b",
   "metadata": {},
   "outputs": [
    {
     "name": "stderr",
     "output_type": "stream",
     "text": [
      "COMET WARNING: As you are running in a Jupyter environment, you will need to call `experiment.end()` when finished to ensure all metrics and code are logged before exiting.\n",
      "COMET INFO: Couldn't find a Git repository in 'C:\\\\Users\\\\yinka\\\\Desktop\\\\EXPLORE\\\\resources\\\\01. Technical\\\\06. Advanced Classification\\\\13. Advanced Classification Exam\\\\south-african-language-identification-hack-2022' nor in any parent directory. You can override where Comet is looking for a Git Patch by setting the configuration `COMET_GIT_DIRECTORY`\n",
      "COMET INFO: Experiment is live on comet.ml https://www.comet.ml/yinka-akindele/hackathon-2022/ef5dcbc05ab84bbe8a188b4ba3019b67\n",
      "\n"
     ]
    }
   ],
   "source": [
    "# Create an experiment with your api key\n",
    "experiment = Experiment(\n",
    "    api_key=\"vYZLU5qF1hfDnC1UNRgZopRTg\",\n",
    "    project_name=\"hackathon-2022\",\n",
    "    workspace=\"yinka-akindele\",\n",
    ")"
   ]
  },
  {
   "cell_type": "code",
   "execution_count": 3,
   "id": "475dbe93",
   "metadata": {
    "ExecuteTime": {
     "end_time": "2021-06-23T10:30:53.800892Z",
     "start_time": "2021-06-23T10:30:50.215449Z"
    }
   },
   "outputs": [],
   "source": [
    "# Libraries for data loading, data manipulation and data visulisation\n",
    "import string\n",
    "import numpy as np\n",
    "import pandas as pd\n",
    "import html\n",
    "import seaborn as sns\n",
    "import matplotlib.pyplot as plt\n",
    "import matplotlib.style as style\n",
    "sns.set(font_scale=1.5)\n",
    "style.use('seaborn-pastel')\n",
    "style.use('seaborn-poster')\n",
    "from PIL import Image\n",
    "from wordcloud import WordCloud\n",
    "\n",
    "# Some Conventional Libraries for Natrual Language processing\n",
    "import re\n",
    "import csv\n",
    "import nltk\n",
    "import pickle\n",
    "\n",
    "\n",
    "# Libraries for data preparation and model building\n",
    "# Preprocessing tools\n",
    "from sklearn.preprocessing import LabelEncoder\n",
    "\n",
    "#Basic sklearn tools\n",
    "from sklearn.feature_extraction.text import CountVectorizer   \n",
    "from sklearn.feature_extraction.text import TfidfVectorizer\n",
    "from sklearn.feature_extraction.text import TfidfTransformer \n",
    "from sklearn.model_selection import train_test_split, RandomizedSearchCV\n",
    "\n",
    "# Building classification models\n",
    "from sklearn.svm import LinearSVC\n",
    "from sklearn.pipeline import Pipeline\n",
    "from sklearn.naive_bayes import MultinomialNB\n",
    "from sklearn.naive_bayes import GaussianNB\n",
    "from sklearn.neighbors import KNeighborsClassifier\n",
    "from sklearn.ensemble import RandomForestClassifier\n",
    "from sklearn.linear_model import LogisticRegression\n",
    "\n",
    "# Libraries for Model evaluation\n",
    "from sklearn.metrics import classification_report, f1_score, precision_score, recall_score"
   ]
  },
  {
   "cell_type": "markdown",
   "id": "f22a6718",
   "metadata": {},
   "source": [
    "<a id=\"two\"></a>\n",
    "## 2. Loading the Data\n",
    "<a class=\"anchor\" id=\"1.1\"></a>\n",
    "<a href=#cont>Back to Table of Contents</a>"
   ]
  },
  {
   "cell_type": "code",
   "execution_count": 4,
   "id": "fbbb6c18",
   "metadata": {
    "ExecuteTime": {
     "end_time": "2021-06-28T08:49:35.311495Z",
     "start_time": "2021-06-28T08:49:35.295494Z"
    }
   },
   "outputs": [],
   "source": [
    "# load the data\n",
    "train = pd.read_csv('resources/train_set.csv')"
   ]
  },
  {
   "cell_type": "markdown",
   "id": "81132ab3",
   "metadata": {},
   "source": [
    "<a id=\"three\"></a>\n",
    "## 3. Exploratory Data Analysis (EDA)\n",
    "<a class=\"anchor\" id=\"1.1\"></a>\n",
    "<a href=#cont>Back to Table of Contents</a>\n"
   ]
  },
  {
   "cell_type": "code",
   "execution_count": 5,
   "id": "e805134e",
   "metadata": {
    "ExecuteTime": {
     "end_time": "2021-06-28T08:52:37.824204Z",
     "start_time": "2021-06-28T08:52:37.811206Z"
    }
   },
   "outputs": [
    {
     "data": {
      "text/html": [
       "<div>\n",
       "<style scoped>\n",
       "    .dataframe tbody tr th:only-of-type {\n",
       "        vertical-align: middle;\n",
       "    }\n",
       "\n",
       "    .dataframe tbody tr th {\n",
       "        vertical-align: top;\n",
       "    }\n",
       "\n",
       "    .dataframe thead th {\n",
       "        text-align: right;\n",
       "    }\n",
       "</style>\n",
       "<table border=\"1\" class=\"dataframe\">\n",
       "  <thead>\n",
       "    <tr style=\"text-align: right;\">\n",
       "      <th></th>\n",
       "      <th>lang_id</th>\n",
       "      <th>text</th>\n",
       "    </tr>\n",
       "  </thead>\n",
       "  <tbody>\n",
       "    <tr>\n",
       "      <th>0</th>\n",
       "      <td>xho</td>\n",
       "      <td>umgaqo-siseko wenza amalungiselelo kumaziko ax...</td>\n",
       "    </tr>\n",
       "    <tr>\n",
       "      <th>1</th>\n",
       "      <td>xho</td>\n",
       "      <td>i-dha iya kuba nobulumko bokubeka umsebenzi na...</td>\n",
       "    </tr>\n",
       "    <tr>\n",
       "      <th>2</th>\n",
       "      <td>eng</td>\n",
       "      <td>the province of kwazulu-natal department of tr...</td>\n",
       "    </tr>\n",
       "    <tr>\n",
       "      <th>3</th>\n",
       "      <td>nso</td>\n",
       "      <td>o netefatša gore o ba file dilo ka moka tše le...</td>\n",
       "    </tr>\n",
       "    <tr>\n",
       "      <th>4</th>\n",
       "      <td>ven</td>\n",
       "      <td>khomishini ya ndinganyiso ya mbeu yo ewa maana...</td>\n",
       "    </tr>\n",
       "  </tbody>\n",
       "</table>\n",
       "</div>"
      ],
      "text/plain": [
       "  lang_id                                               text\n",
       "0     xho  umgaqo-siseko wenza amalungiselelo kumaziko ax...\n",
       "1     xho  i-dha iya kuba nobulumko bokubeka umsebenzi na...\n",
       "2     eng  the province of kwazulu-natal department of tr...\n",
       "3     nso  o netefatša gore o ba file dilo ka moka tše le...\n",
       "4     ven  khomishini ya ndinganyiso ya mbeu yo ewa maana..."
      ]
     },
     "execution_count": 5,
     "metadata": {},
     "output_type": "execute_result"
    }
   ],
   "source": [
    "# look at data statistics\n",
    "train.head()"
   ]
  },
  {
   "cell_type": "code",
   "execution_count": 6,
   "id": "1221014e",
   "metadata": {},
   "outputs": [
    {
     "name": "stdout",
     "output_type": "stream",
     "text": [
      "<class 'pandas.core.frame.DataFrame'>\n",
      "RangeIndex: 33000 entries, 0 to 32999\n",
      "Data columns (total 2 columns):\n",
      " #   Column   Non-Null Count  Dtype \n",
      "---  ------   --------------  ----- \n",
      " 0   lang_id  33000 non-null  object\n",
      " 1   text     33000 non-null  object\n",
      "dtypes: object(2)\n",
      "memory usage: 515.8+ KB\n"
     ]
    }
   ],
   "source": [
    "train.info()"
   ]
  },
  {
   "cell_type": "markdown",
   "id": "2f4d4ecf",
   "metadata": {},
   "source": [
    "From the above observation, it can be seen that the train dataset does not contain any missing or null values."
   ]
  },
  {
   "cell_type": "code",
   "execution_count": 7,
   "id": "51c9e181",
   "metadata": {},
   "outputs": [
    {
     "data": {
      "text/plain": [
       "xho    3000\n",
       "eng    3000\n",
       "nso    3000\n",
       "ven    3000\n",
       "tsn    3000\n",
       "nbl    3000\n",
       "zul    3000\n",
       "ssw    3000\n",
       "tso    3000\n",
       "sot    3000\n",
       "afr    3000\n",
       "Name: lang_id, dtype: int64"
      ]
     },
     "execution_count": 7,
     "metadata": {},
     "output_type": "execute_result"
    }
   ],
   "source": [
    "train['lang_id'].value_counts()"
   ]
  },
  {
   "cell_type": "markdown",
   "id": "387ef972",
   "metadata": {},
   "source": [
    "By doing the value counts of the language id, it is obvious that the dataset is balanced and it therefore does not need resampling.\n"
   ]
  },
  {
   "cell_type": "code",
   "execution_count": 8,
   "id": "756561c2",
   "metadata": {},
   "outputs": [
    {
     "data": {
      "text/plain": [
       "<AxesSubplot:>"
      ]
     },
     "execution_count": 8,
     "metadata": {},
     "output_type": "execute_result"
    },
    {
     "data": {
      "image/png": "[encoded data removed]",
      "text/plain": [
       "<Figure size 921.6x633.6 with 1 Axes>"
      ]
     },
     "metadata": {},
     "output_type": "display_data"
    }
   ],
   "source": [
    "train['lang_id'].value_counts().plot(kind='bar')"
   ]
  },
  {
   "cell_type": "markdown",
   "id": "3fa93ec6",
   "metadata": {},
   "source": [
    "<a id=\"four\"></a>\n",
    "## 4. Data Engineering\n",
    "<a class=\"anchor\" id=\"1.1\"></a>\n",
    "<a href=#cont>Back to Table of Contents</a>\n"
   ]
  },
  {
   "cell_type": "code",
   "execution_count": 9,
   "id": "059c2f3e",
   "metadata": {},
   "outputs": [
    {
     "data": {
      "text/html": [
       "<div>\n",
       "<style scoped>\n",
       "    .dataframe tbody tr th:only-of-type {\n",
       "        vertical-align: middle;\n",
       "    }\n",
       "\n",
       "    .dataframe tbody tr th {\n",
       "        vertical-align: top;\n",
       "    }\n",
       "\n",
       "    .dataframe thead th {\n",
       "        text-align: right;\n",
       "    }\n",
       "</style>\n",
       "<table border=\"1\" class=\"dataframe\">\n",
       "  <thead>\n",
       "    <tr style=\"text-align: right;\">\n",
       "      <th></th>\n",
       "      <th>lang_id</th>\n",
       "      <th>text</th>\n",
       "    </tr>\n",
       "  </thead>\n",
       "  <tbody>\n",
       "    <tr>\n",
       "      <th>0</th>\n",
       "      <td>xho</td>\n",
       "      <td>umgaqosiseko wenza amalungiselelo kumaziko axh...</td>\n",
       "    </tr>\n",
       "    <tr>\n",
       "      <th>1</th>\n",
       "      <td>xho</td>\n",
       "      <td>idha iya kuba nobulumko bokubeka umsebenzi nap...</td>\n",
       "    </tr>\n",
       "    <tr>\n",
       "      <th>2</th>\n",
       "      <td>eng</td>\n",
       "      <td>the province of kwazulunatal department of tra...</td>\n",
       "    </tr>\n",
       "    <tr>\n",
       "      <th>3</th>\n",
       "      <td>nso</td>\n",
       "      <td>o netefatša gore o ba file dilo ka moka tše le...</td>\n",
       "    </tr>\n",
       "    <tr>\n",
       "      <th>4</th>\n",
       "      <td>ven</td>\n",
       "      <td>khomishini ya ndinganyiso ya mbeu yo ewa maana...</td>\n",
       "    </tr>\n",
       "  </tbody>\n",
       "</table>\n",
       "</div>"
      ],
      "text/plain": [
       "  lang_id                                               text\n",
       "0     xho  umgaqosiseko wenza amalungiselelo kumaziko axh...\n",
       "1     xho  idha iya kuba nobulumko bokubeka umsebenzi nap...\n",
       "2     eng  the province of kwazulunatal department of tra...\n",
       "3     nso  o netefatša gore o ba file dilo ka moka tše le...\n",
       "4     ven  khomishini ya ndinganyiso ya mbeu yo ewa maana..."
      ]
     },
     "execution_count": 9,
     "metadata": {},
     "output_type": "execute_result"
    }
   ],
   "source": [
    "# remove punctuations\n",
    "#This block of code conducts further cleaning of the given dataset.\n",
    "#Regex will employed for this task\n",
    "\n",
    "for i in range (len(train['text'])):\n",
    "    train['text'][i]=re.sub(r\"(@[A-Za-z0-9_]+)|[^\\w\\s]|http\\S+\",\"\",train['text'][i])\n",
    "train.head()"
   ]
  },
  {
   "cell_type": "code",
   "execution_count": 10,
   "id": "84eea17b",
   "metadata": {},
   "outputs": [],
   "source": [
    "lang_labels = list(train['lang_id'].unique())"
   ]
  },
  {
   "cell_type": "markdown",
   "id": "43b2d523",
   "metadata": {},
   "source": [
    "<a id=\"five\"></a>\n",
    "## 5. Modelling\n",
    "<a class=\"anchor\" id=\"1.1\"></a>\n",
    "<a href=#cont>Back to Table of Contents</a>\n"
   ]
  },
  {
   "cell_type": "code",
   "execution_count": 11,
   "id": "9c58df02",
   "metadata": {},
   "outputs": [],
   "source": [
    "# create targets and features dataset\n",
    "X = train['text']   # features\n",
    "y = train['lang_id']   # targets"
   ]
  },
  {
   "cell_type": "code",
   "execution_count": 12,
   "id": "044fefe1",
   "metadata": {},
   "outputs": [],
   "source": [
    "# split data\n",
    "X_train, X_valid, y_train, y_valid = train_test_split(X, y, test_size=0.35, random_state=42)"
   ]
  },
  {
   "cell_type": "markdown",
   "id": "c3b40095",
   "metadata": {},
   "source": [
    "## Create one or more ML models"
   ]
  },
  {
   "cell_type": "markdown",
   "id": "bb832a56",
   "metadata": {},
   "source": [
    "### Pipelines\n",
    "\n",
    "The purpose of the pipeline is to assemble several steps that can be cross-validated together while setting different parameters.\n",
    "\n",
    "For this, it enables setting parameters of the various steps using their names and the parameter name \n",
    "\n",
    "\n",
    "### TfidfVectorizer\n",
    "\n",
    "The TFIDF vectorizer assigns word frequency scores that try to highlight words that are more interesting, e.g. frequent in a document but not across documents.\n",
    "\n",
    "The TfidfVectorizer will tokenize documents, learn the vocabulary and inverse document frequency weightings, and allow you to encode new documents.\n",
    "\n",
    "Another advantage of this method is that the resulting vectors are already scaled.\n"
   ]
  },
  {
   "cell_type": "markdown",
   "id": "4ee973c4",
   "metadata": {},
   "source": [
    "##### Logistic Regression Model"
   ]
  },
  {
   "cell_type": "code",
   "execution_count": 13,
   "id": "c5221b8b",
   "metadata": {},
   "outputs": [],
   "source": [
    "logreg = Pipeline([('tfidf', TfidfVectorizer()),\n",
    "                   ('clf', LogisticRegression(C=1, max_iter=100, multi_class='multinomial', class_weight='balanced'))])"
   ]
  },
  {
   "cell_type": "markdown",
   "id": "725f15c5",
   "metadata": {},
   "source": [
    "##### Linear SVC"
   ]
  },
  {
   "cell_type": "code",
   "execution_count": 14,
   "id": "e4d49069",
   "metadata": {},
   "outputs": [],
   "source": [
    "# Linear SVC:\n",
    "lsvc = Pipeline([('tfidf', TfidfVectorizer()),\n",
    "                 ('clf', LinearSVC(max_iter=100,class_weight='balanced'))])\n"
   ]
  },
  {
   "cell_type": "markdown",
   "id": "84a456a4",
   "metadata": {},
   "source": [
    "##### Naive Bayes"
   ]
  },
  {
   "cell_type": "code",
   "execution_count": 15,
   "id": "aaadf13b",
   "metadata": {},
   "outputs": [],
   "source": [
    "# Naïve Bayes:\n",
    "nb = Pipeline([('tfidf', TfidfVectorizer()),\n",
    "               ('clf', MultinomialNB())])"
   ]
  },
  {
   "cell_type": "markdown",
   "id": "1528e1a8",
   "metadata": {},
   "source": [
    "##### Random Forest"
   ]
  },
  {
   "cell_type": "code",
   "execution_count": 16,
   "id": "5ca3d6eb",
   "metadata": {},
   "outputs": [],
   "source": [
    "# Random Forest Classifier\n",
    "rf = Pipeline([('tfidf', TfidfVectorizer()),\n",
    "               ('clf', RandomForestClassifier(max_depth=10, \n",
    "                                              n_estimators=1000, random_state=42))])\n"
   ]
  },
  {
   "cell_type": "markdown",
   "id": "705061eb",
   "metadata": {},
   "source": [
    "##### K Nearest Neighbour"
   ]
  },
  {
   "cell_type": "code",
   "execution_count": 19,
   "id": "ea877245",
   "metadata": {},
   "outputs": [],
   "source": [
    "# Random Forest Classifier\n",
    "knn = Pipeline([('tfidf', TfidfVectorizer()),\n",
    "               ('clf', KNeighborsClassifier(n_neighbors=5))])\n"
   ]
  },
  {
   "cell_type": "markdown",
   "id": "4d6706b2",
   "metadata": {},
   "source": [
    "##### Linear SVC Optimised by Tuning"
   ]
  },
  {
   "cell_type": "code",
   "execution_count": 20,
   "id": "f566ddef",
   "metadata": {},
   "outputs": [],
   "source": [
    "lsvc_op = Pipeline([('tfidf', TfidfVectorizer(max_df=0.8, min_df=2, ngram_range=(1,2))),\n",
    "                  ('clf', LinearSVC(C=0.3, class_weight='balanced', max_iter=100))])"
   ]
  },
  {
   "cell_type": "markdown",
   "id": "3aec4030",
   "metadata": {},
   "source": [
    "## Training the models"
   ]
  },
  {
   "cell_type": "markdown",
   "id": "c8641734",
   "metadata": {},
   "source": [
    "##### Logistic Regression Model"
   ]
  },
  {
   "cell_type": "code",
   "execution_count": 21,
   "id": "89ee8848",
   "metadata": {},
   "outputs": [
    {
     "name": "stderr",
     "output_type": "stream",
     "text": [
      "C:\\Users\\yinka\\anaconda3\\lib\\site-packages\\sklearn\\linear_model\\_logistic.py:814: ConvergenceWarning: lbfgs failed to converge (status=1):\n",
      "STOP: TOTAL NO. of ITERATIONS REACHED LIMIT.\n",
      "\n",
      "Increase the number of iterations (max_iter) or scale the data as shown in:\n",
      "    https://scikit-learn.org/stable/modules/preprocessing.html\n",
      "Please also refer to the documentation for alternative solver options:\n",
      "    https://scikit-learn.org/stable/modules/linear_model.html#logistic-regression\n",
      "  n_iter_i = _check_optimize_result(\n"
     ]
    }
   ],
   "source": [
    "logreg.fit(X_train, y_train)\n",
    "y_pred_logreg = logreg.predict(X_valid)\n",
    "\n",
    "\n",
    "##### Saving the Logistic regression model\n",
    "lr_save_path = \"resources/logistic_regression_model.pkl\"\n",
    "with open(lr_save_path,'wb') as lr_file:\n",
    "    pickle.dump(logreg, lr_file)\n"
   ]
  },
  {
   "cell_type": "markdown",
   "id": "891a58fa",
   "metadata": {},
   "source": [
    "##### Linear SVC"
   ]
  },
  {
   "cell_type": "code",
   "execution_count": 22,
   "id": "55de8c1e",
   "metadata": {},
   "outputs": [],
   "source": [
    "##### Linear SVC\n",
    "lsvc.fit(X_train, y_train)\n",
    "y_pred_lsvc = lsvc.predict(X_valid)\n",
    "\n",
    "\n",
    "##### Saving the Linear SVC model\n",
    "lsvc_save_path = \"resources/linear_svc_model.pkl\"\n",
    "with open(lsvc_save_path,'wb') as lsvc_file:\n",
    "    pickle.dump(lsvc, lsvc_file)\n"
   ]
  },
  {
   "cell_type": "markdown",
   "id": "cf59b2c2",
   "metadata": {},
   "source": [
    "##### Naive Bayes"
   ]
  },
  {
   "cell_type": "code",
   "execution_count": 23,
   "id": "6891b748",
   "metadata": {},
   "outputs": [],
   "source": [
    "##### Naive bayes\n",
    "nb.fit(X_train, y_train)\n",
    "y_pred_nb = nb.predict(X_valid)\n",
    "\n",
    "\n",
    "##### Saving the Naive Bayes model\n",
    "nb_save_path = \"resources/naive_bayes_model.pkl\"\n",
    "with open(nb_save_path,'wb') as nb_file:\n",
    "    pickle.dump(nb, nb_file)\n"
   ]
  },
  {
   "cell_type": "markdown",
   "id": "c0e93788",
   "metadata": {},
   "source": [
    "##### Random Forest Model"
   ]
  },
  {
   "cell_type": "code",
   "execution_count": 24,
   "id": "dce8e53d",
   "metadata": {},
   "outputs": [
    {
     "name": "stderr",
     "output_type": "stream",
     "text": [
      "COMET ERROR: Failed to extract parameters from estimator\n"
     ]
    }
   ],
   "source": [
    "###### Random forest \n",
    "rf.fit(X_train, y_train)\n",
    "y_pred_rf = rf.predict(X_valid)\n",
    "\n",
    "\n",
    "##### Saving the Random Forest model\n",
    "rf_save_path = \"resources/random_forest_model.pkl\"\n",
    "with open(rf_save_path,'wb') as rf_file:\n",
    "    pickle.dump(rf, rf_file)\n"
   ]
  },
  {
   "cell_type": "markdown",
   "id": "90d1be94",
   "metadata": {},
   "source": [
    "##### K Nearest Neighbour"
   ]
  },
  {
   "cell_type": "code",
   "execution_count": 25,
   "id": "ff8412a6",
   "metadata": {},
   "outputs": [],
   "source": [
    "##### Fit and predict\n",
    "knn.fit(X_train, y_train)\n",
    "y_pred_knn = knn.predict(X_valid)\n",
    "\n",
    "##### Saving the K Nearest Neighbour model\n",
    "knn_save_path = \"resources/lsvc_op_model.pkl\"\n",
    "with open(knn_save_path,'wb') as knn_file:\n",
    "    pickle.dump(knn, knn_file)"
   ]
  },
  {
   "cell_type": "markdown",
   "id": "4d6706b2",
   "metadata": {},
   "source": [
    "##### Linear SVC Optimised by Tuning"
   ]
  },
  {
   "cell_type": "code",
   "execution_count": 26,
   "id": "a32d9227",
   "metadata": {},
   "outputs": [],
   "source": [
    "##### Fit and predict\n",
    "lsvc_op.fit(X_train, y_train)\n",
    "y_pred = lsvc_op.predict(X_valid)\n",
    "\n",
    "##### Saving the K Nearest Neighbour model\n",
    "lsvc_op_save_path = \"resources/lsvc_op_model.pkl\"\n",
    "with open(lsvc_op_save_path,'wb') as lsvc_op_file:\n",
    "    pickle.dump(lsvc_op, lsvc_op_file)"
   ]
  },
  {
   "cell_type": "code",
   "execution_count": null,
   "id": "24b217a9",
   "metadata": {},
   "outputs": [],
   "source": []
  },
  {
   "cell_type": "markdown",
   "id": "6b530251",
   "metadata": {},
   "source": [
    "<a id=\"six\"></a>\n",
    "## 6. Model Performance\n",
    "<a class=\"anchor\" id=\"1.1\"></a>\n",
    "<a href=#cont>Back to Table of Contents</a>\n"
   ]
  },
  {
   "cell_type": "markdown",
   "id": "3ad89c9e",
   "metadata": {},
   "source": [
    "##### Logistic Regression Model"
   ]
  },
  {
   "cell_type": "code",
   "execution_count": 27,
   "id": "6a69b5a1",
   "metadata": {},
   "outputs": [
    {
     "name": "stdout",
     "output_type": "stream",
     "text": [
      "f1 =  0.99463257895802\n",
      "recall =  0.9946320346320346\n",
      "precision =  0.9946444822266561\n",
      "\n",
      "\n",
      "\n",
      "\n",
      "Classification Report\n",
      "              precision    recall  f1-score   support\n",
      "\n",
      "         afr       1.00      0.99      1.00      1040\n",
      "         eng       1.00      1.00      1.00      1053\n",
      "         nbl       0.99      0.98      0.99      1020\n",
      "         nso       1.00      1.00      1.00      1087\n",
      "         sot       1.00      1.00      1.00      1079\n",
      "         ssw       0.99      0.99      0.99      1058\n",
      "         tsn       1.00      1.00      1.00      1043\n",
      "         tso       1.00      1.00      1.00      1014\n",
      "         ven       1.00      1.00      1.00      1089\n",
      "         xho       0.99      1.00      0.99      1065\n",
      "         zul       0.98      0.98      0.98      1002\n",
      "\n",
      "    accuracy                           0.99     11550\n",
      "   macro avg       0.99      0.99      0.99     11550\n",
      "weighted avg       0.99      0.99      0.99     11550\n",
      "\n"
     ]
    }
   ],
   "source": [
    "# Model performance\n",
    "f1 = f1_score(y_valid, y_pred_logreg, average='weighted')\n",
    "precision = precision_score(y_valid, y_pred_logreg, average='weighted')\n",
    "recall = recall_score(y_valid, y_pred_logreg, average='weighted')\n",
    "\n",
    "\n",
    "print(\"f1 = \", f1)\n",
    "print(\"recall = \", recall)\n",
    "print(\"precision = \", precision)\n",
    "print(\"\\n\\n\\n\\nClassification Report\")\n",
    "print(classification_report(y_valid, y_pred_logreg))"
   ]
  },
  {
   "cell_type": "markdown",
   "id": "891a58fa",
   "metadata": {},
   "source": [
    "##### Linear SVC"
   ]
  },
  {
   "cell_type": "code",
   "execution_count": 28,
   "id": "90629c88",
   "metadata": {},
   "outputs": [
    {
     "name": "stdout",
     "output_type": "stream",
     "text": [
      "f1 =  0.9974890202821773\n",
      "recall =  0.9974891774891775\n",
      "precision =  0.99749227581991\n",
      "\n",
      "\n",
      "\n",
      "\n",
      "Classification Report\n",
      "              precision    recall  f1-score   support\n",
      "\n",
      "         afr       1.00      1.00      1.00      1040\n",
      "         eng       1.00      1.00      1.00      1053\n",
      "         nbl       1.00      0.99      0.99      1020\n",
      "         nso       1.00      1.00      1.00      1087\n",
      "         sot       1.00      1.00      1.00      1079\n",
      "         ssw       1.00      1.00      1.00      1058\n",
      "         tsn       1.00      1.00      1.00      1043\n",
      "         tso       1.00      1.00      1.00      1014\n",
      "         ven       1.00      1.00      1.00      1089\n",
      "         xho       0.99      1.00      0.99      1065\n",
      "         zul       0.99      0.99      0.99      1002\n",
      "\n",
      "    accuracy                           1.00     11550\n",
      "   macro avg       1.00      1.00      1.00     11550\n",
      "weighted avg       1.00      1.00      1.00     11550\n",
      "\n"
     ]
    }
   ],
   "source": [
    "# Model performance\n",
    "f1 = f1_score(y_valid, y_pred_lsvc, average='weighted')\n",
    "precision = precision_score(y_valid, y_pred_lsvc, average='weighted')\n",
    "recall = recall_score(y_valid, y_pred_lsvc, average='weighted')\n",
    "\n",
    "\n",
    "print(\"f1 = \", f1)\n",
    "print(\"recall = \", recall)\n",
    "print(\"precision = \", precision)\n",
    "print(\"\\n\\n\\n\\nClassification Report\")\n",
    "print(classification_report(y_valid, y_pred_lsvc))"
   ]
  },
  {
   "cell_type": "markdown",
   "id": "cf59b2c2",
   "metadata": {},
   "source": [
    "##### Naive Bayes"
   ]
  },
  {
   "cell_type": "code",
   "execution_count": 29,
   "id": "79ef085e",
   "metadata": {},
   "outputs": [
    {
     "name": "stdout",
     "output_type": "stream",
     "text": [
      "f1 =  0.9987877843142168\n",
      "recall =  0.9987878787878788\n",
      "precision =  0.9987896279854529\n",
      "\n",
      "\n",
      "\n",
      "\n",
      "Classification Report\n",
      "              precision    recall  f1-score   support\n",
      "\n",
      "         afr       1.00      1.00      1.00      1040\n",
      "         eng       1.00      1.00      1.00      1053\n",
      "         nbl       0.99      1.00      1.00      1020\n",
      "         nso       1.00      1.00      1.00      1087\n",
      "         sot       1.00      1.00      1.00      1079\n",
      "         ssw       1.00      1.00      1.00      1058\n",
      "         tsn       1.00      1.00      1.00      1043\n",
      "         tso       1.00      1.00      1.00      1014\n",
      "         ven       1.00      1.00      1.00      1089\n",
      "         xho       1.00      1.00      1.00      1065\n",
      "         zul       1.00      0.99      1.00      1002\n",
      "\n",
      "    accuracy                           1.00     11550\n",
      "   macro avg       1.00      1.00      1.00     11550\n",
      "weighted avg       1.00      1.00      1.00     11550\n",
      "\n"
     ]
    }
   ],
   "source": [
    "# Model performance\n",
    "f1 = f1_score(y_valid, y_pred_nb, average='weighted')\n",
    "precision = precision_score(y_valid, y_pred_nb, average='weighted')\n",
    "recall = recall_score(y_valid, y_pred_nb, average='weighted')\n",
    "\n",
    "\n",
    "print(\"f1 = \", f1)\n",
    "print(\"recall = \", recall)\n",
    "print(\"precision = \", precision)\n",
    "print(\"\\n\\n\\n\\nClassification Report\")\n",
    "print(classification_report(y_valid, y_pred_nb))"
   ]
  },
  {
   "cell_type": "markdown",
   "id": "c0e93788",
   "metadata": {},
   "source": [
    "##### Random Forest Model"
   ]
  },
  {
   "cell_type": "code",
   "execution_count": 30,
   "id": "901f0669",
   "metadata": {},
   "outputs": [
    {
     "name": "stdout",
     "output_type": "stream",
     "text": [
      "f1 =  0.955465418132662\n",
      "recall =  0.954025974025974\n",
      "precision =  0.9629176300331089\n",
      "\n",
      "\n",
      "\n",
      "\n",
      "Classification Report\n",
      "              precision    recall  f1-score   support\n",
      "\n",
      "         afr       1.00      1.00      1.00      1040\n",
      "         eng       0.99      1.00      0.99      1053\n",
      "         nbl       0.94      0.90      0.92      1020\n",
      "         nso       1.00      0.99      1.00      1087\n",
      "         sot       1.00      1.00      1.00      1079\n",
      "         ssw       1.00      0.82      0.90      1058\n",
      "         tsn       0.99      1.00      1.00      1043\n",
      "         tso       1.00      1.00      1.00      1014\n",
      "         ven       1.00      1.00      1.00      1089\n",
      "         xho       0.97      0.84      0.90      1065\n",
      "         zul       0.70      0.95      0.81      1002\n",
      "\n",
      "    accuracy                           0.95     11550\n",
      "   macro avg       0.96      0.95      0.95     11550\n",
      "weighted avg       0.96      0.95      0.96     11550\n",
      "\n"
     ]
    }
   ],
   "source": [
    "# Model performance\n",
    "f1 = f1_score(y_valid, y_pred_rf, average='weighted')\n",
    "precision = precision_score(y_valid, y_pred_rf, average='weighted')\n",
    "recall = recall_score(y_valid, y_pred_rf, average='weighted')\n",
    "\n",
    "\n",
    "print(\"f1 = \", f1)\n",
    "print(\"recall = \", recall)\n",
    "print(\"precision = \", precision)\n",
    "print(\"\\n\\n\\n\\nClassification Report\")\n",
    "print(classification_report(y_valid, y_pred_rf))"
   ]
  },
  {
   "cell_type": "markdown",
   "id": "705061eb",
   "metadata": {},
   "source": [
    "##### K Nearest Neighbour"
   ]
  },
  {
   "cell_type": "code",
   "execution_count": 31,
   "id": "fe7df9bd",
   "metadata": {},
   "outputs": [
    {
     "name": "stdout",
     "output_type": "stream",
     "text": [
      "f1 =  0.9641164297305882\n",
      "recall =  0.9643290043290044\n",
      "precision =  0.9647556488688038\n",
      "\n",
      "\n",
      "\n",
      "\n",
      "Classification Report\n",
      "              precision    recall  f1-score   support\n",
      "\n",
      "         afr       0.99      0.99      0.99      1040\n",
      "         eng       0.98      1.00      0.99      1053\n",
      "         nbl       0.89      0.96      0.92      1020\n",
      "         nso       0.95      0.97      0.96      1087\n",
      "         sot       0.98      0.98      0.98      1079\n",
      "         ssw       0.97      0.97      0.97      1058\n",
      "         tsn       0.96      0.94      0.95      1043\n",
      "         tso       0.98      1.00      0.99      1014\n",
      "         ven       1.00      1.00      1.00      1089\n",
      "         xho       0.96      0.93      0.94      1065\n",
      "         zul       0.96      0.86      0.90      1002\n",
      "\n",
      "    accuracy                           0.96     11550\n",
      "   macro avg       0.96      0.96      0.96     11550\n",
      "weighted avg       0.96      0.96      0.96     11550\n",
      "\n"
     ]
    }
   ],
   "source": [
    "# Model performance\n",
    "f1 = f1_score(y_valid, y_pred_knn, average='weighted')\n",
    "precision = precision_score(y_valid, y_pred_knn, average='weighted')\n",
    "recall = recall_score(y_valid, y_pred_knn, average='weighted')\n",
    "\n",
    "\n",
    "print(\"f1 = \", f1)\n",
    "print(\"recall = \", recall)\n",
    "print(\"precision = \", precision)\n",
    "print(\"\\n\\n\\n\\nClassification Report\")\n",
    "print(classification_report(y_valid, y_pred_knn))"
   ]
  },
  {
   "cell_type": "markdown",
   "id": "4d6706b2",
   "metadata": {},
   "source": [
    "##### Optimised model by Tuning"
   ]
  },
  {
   "cell_type": "code",
   "execution_count": 32,
   "id": "fb039233",
   "metadata": {},
   "outputs": [
    {
     "name": "stdout",
     "output_type": "stream",
     "text": [
      "f1 =  0.9972289531813664\n",
      "recall =  0.9972294372294372\n",
      "precision =  0.9972324536215577\n",
      "\n",
      "\n",
      "\n",
      "\n",
      "Classification Report\n",
      "              precision    recall  f1-score   support\n",
      "\n",
      "         afr       1.00      1.00      1.00      1040\n",
      "         eng       1.00      1.00      1.00      1053\n",
      "         nbl       1.00      0.99      0.99      1020\n",
      "         nso       1.00      1.00      1.00      1087\n",
      "         sot       1.00      1.00      1.00      1079\n",
      "         ssw       1.00      1.00      1.00      1058\n",
      "         tsn       1.00      1.00      1.00      1043\n",
      "         tso       1.00      1.00      1.00      1014\n",
      "         ven       1.00      1.00      1.00      1089\n",
      "         xho       0.99      1.00      0.99      1065\n",
      "         zul       0.99      0.99      0.99      1002\n",
      "\n",
      "    accuracy                           1.00     11550\n",
      "   macro avg       1.00      1.00      1.00     11550\n",
      "weighted avg       1.00      1.00      1.00     11550\n",
      "\n"
     ]
    }
   ],
   "source": [
    "# Model performance\n",
    "f1 = f1_score(y_valid, y_pred, average='weighted')\n",
    "precision = precision_score(y_valid, y_pred, average='weighted')\n",
    "recall = recall_score(y_valid, y_pred, average='weighted')\n",
    "\n",
    "\n",
    "print(\"f1 = \", f1)\n",
    "print(\"recall = \", recall)\n",
    "print(\"precision = \", precision)\n",
    "print(\"\\n\\n\\n\\nClassification Report\")\n",
    "print(classification_report(y_valid, y_pred))"
   ]
  },
  {
   "cell_type": "markdown",
   "id": "a17651ff",
   "metadata": {},
   "source": [
    " <a id=\"seven\"></a>\n",
    "## 7. Logging to Comet.\n",
    "<a href=#cont>Back to Table of Contents</a>\n"
   ]
  },
  {
   "cell_type": "code",
   "execution_count": 33,
   "id": "3f29b925",
   "metadata": {},
   "outputs": [],
   "source": [
    "# Create dictionaries for the data we want to log\n",
    "\n",
    "params = {\"random_state\": 42,\n",
    "          \"model_type\": \"lsvc_op\",\n",
    "          \"max_df\": 0.8,\n",
    "          \"min_df\": 2,\n",
    "          \"ngram_range\": (1, 3),\n",
    "          \"C\": 0.3,\n",
    "           \"class_weight\": \"balanced\",\n",
    "          \"max_iter\": 10000\n",
    "          }\n",
    "\n",
    "metrics = {\"f1\": f1,\n",
    "           \"recall\": recall,\n",
    "           \"precision\": precision\n",
    "           }"
   ]
  },
  {
   "cell_type": "code",
   "execution_count": 34,
   "id": "42167a25",
   "metadata": {},
   "outputs": [],
   "source": [
    "# Log our parameters and results\n",
    "experiment.log_parameters(params)\n",
    "experiment.log_metrics(metrics)"
   ]
  },
  {
   "cell_type": "code",
   "execution_count": 35,
   "id": "d0d504b5",
   "metadata": {},
   "outputs": [
    {
     "name": "stderr",
     "output_type": "stream",
     "text": [
      "COMET INFO: ---------------------------\n",
      "COMET INFO: Comet.ml Experiment Summary\n",
      "COMET INFO: ---------------------------\n",
      "COMET INFO:   Data:\n",
      "COMET INFO:     display_summary_level : 1\n",
      "COMET INFO:     url                   : https://www.comet.ml/yinka-akindele/hackathon-2022/ef5dcbc05ab84bbe8a188b4ba3019b67\n",
      "COMET INFO:   Metrics:\n",
      "COMET INFO:     f1        : 0.9972289531813664\n",
      "COMET INFO:     precision : 0.9972324536215577\n",
      "COMET INFO:     recall    : 0.9972294372294372\n",
      "COMET INFO:   Parameters:\n",
      "COMET INFO:     C                             : 0.3\n",
      "COMET INFO:     algorithm                     : auto\n",
      "COMET INFO:     alpha                         : 1.0\n",
      "COMET INFO:     bootstrap                     : True\n",
      "COMET INFO:     ccp_alpha                     : 0.0\n",
      "COMET INFO:     class_prior                   : 1\n",
      "COMET INFO:     class_weight                  : balanced\n",
      "COMET INFO:     clf                           : LinearSVC(C=0.3, class_weight='balanced', max_iter=100)\n",
      "COMET INFO:     clf_C                         : 0.3\n",
      "COMET INFO:     clf__C                        : 0.3\n",
      "COMET INFO:     clf__algorithm                : auto\n",
      "COMET INFO:     clf__alpha                    : 1.0\n",
      "COMET INFO:     clf__bootstrap                : True\n",
      "COMET INFO:     clf__ccp_alpha                : 0.0\n",
      "COMET INFO:     clf__class_prior              : 1\n",
      "COMET INFO:     clf__class_weight             : balanced\n",
      "COMET INFO:     clf__criterion                : gini\n",
      "COMET INFO:     clf__dual                     : True\n",
      "COMET INFO:     clf__fit_intercept            : True\n",
      "COMET INFO:     clf__fit_prior                : True\n",
      "COMET INFO:     clf__intercept_scaling        : 1\n",
      "COMET INFO:     clf__l1_ratio                 : 1\n",
      "COMET INFO:     clf__leaf_size                : 30\n",
      "COMET INFO:     clf__loss                     : squared_hinge\n",
      "COMET INFO:     clf__max_depth                : 10\n",
      "COMET INFO:     clf__max_features             : auto\n",
      "COMET INFO:     clf__max_iter                 : 100\n",
      "COMET INFO:     clf__max_leaf_nodes           : 1\n",
      "COMET INFO:     clf__max_samples              : 1\n",
      "COMET INFO:     clf__metric                   : minkowski\n",
      "COMET INFO:     clf__metric_params            : 1\n",
      "COMET INFO:     clf__min_impurity_decrease    : 0.0\n",
      "COMET INFO:     clf__min_samples_leaf         : 1\n",
      "COMET INFO:     clf__min_samples_split        : 2\n",
      "COMET INFO:     clf__min_weight_fraction_leaf : 0.0\n",
      "COMET INFO:     clf__multi_class              : ovr\n",
      "COMET INFO:     clf__n_estimators             : 1000\n",
      "COMET INFO:     clf__n_jobs                   : 1\n",
      "COMET INFO:     clf__n_neighbors              : 5\n",
      "COMET INFO:     clf__oob_score                : False\n",
      "COMET INFO:     clf__p                        : 2\n",
      "COMET INFO:     clf__penalty                  : l2\n",
      "COMET INFO:     clf__random_state             : 3\n",
      "COMET INFO:     clf__solver                   : lbfgs\n",
      "COMET INFO:     clf__tol                      : 0.0001\n",
      "COMET INFO:     clf__verbose                  : 0\n",
      "COMET INFO:     clf__warm_start               : False\n",
      "COMET INFO:     clf__weights                  : uniform\n",
      "COMET INFO:     clf_algorithm                 : auto\n",
      "COMET INFO:     clf_alpha                     : 1.0\n",
      "COMET INFO:     clf_bootstrap                 : True\n",
      "COMET INFO:     clf_ccp_alpha                 : 0.0\n",
      "COMET INFO:     clf_class_prior               : 1\n",
      "COMET INFO:     clf_class_weight              : balanced\n",
      "COMET INFO:     clf_criterion                 : gini\n",
      "COMET INFO:     clf_dual                      : True\n",
      "COMET INFO:     clf_fit_intercept             : True\n",
      "COMET INFO:     clf_fit_prior                 : True\n",
      "COMET INFO:     clf_intercept_scaling         : 1\n",
      "COMET INFO:     clf_l1_ratio                  : 1\n",
      "COMET INFO:     clf_leaf_size                 : 30\n",
      "COMET INFO:     clf_loss                      : squared_hinge\n",
      "COMET INFO:     clf_max_depth                 : 10\n",
      "COMET INFO:     clf_max_features              : auto\n",
      "COMET INFO:     clf_max_iter                  : 100\n",
      "COMET INFO:     clf_max_leaf_nodes            : 1\n",
      "COMET INFO:     clf_max_samples               : 1\n",
      "COMET INFO:     clf_metric                    : minkowski\n",
      "COMET INFO:     clf_metric_params             : 1\n",
      "COMET INFO:     clf_min_impurity_decrease     : 0.0\n",
      "COMET INFO:     clf_min_samples_leaf          : 1\n",
      "COMET INFO:     clf_min_samples_split         : 2\n",
      "COMET INFO:     clf_min_weight_fraction_leaf  : 0.0\n",
      "COMET INFO:     clf_multi_class               : ovr\n",
      "COMET INFO:     clf_n_estimators              : 1000\n",
      "COMET INFO:     clf_n_jobs                    : 1\n",
      "COMET INFO:     clf_n_neighbors               : 5\n",
      "COMET INFO:     clf_oob_score                 : False\n",
      "COMET INFO:     clf_p                         : 2\n",
      "COMET INFO:     clf_penalty                   : l2\n",
      "COMET INFO:     clf_random_state              : 3\n",
      "COMET INFO:     clf_solver                    : lbfgs\n",
      "COMET INFO:     clf_tol                       : 0.0001\n",
      "COMET INFO:     clf_verbose                   : 0\n",
      "COMET INFO:     clf_warm_start                : False\n",
      "COMET INFO:     clf_weights                   : uniform\n",
      "COMET INFO:     criterion                     : gini\n",
      "COMET INFO:     dual                          : True\n",
      "COMET INFO:     fit_intercept                 : True\n",
      "COMET INFO:     fit_prior                     : True\n",
      "COMET INFO:     intercept_scaling             : 1\n",
      "COMET INFO:     l1_ratio                      : 1\n",
      "COMET INFO:     leaf_size                     : 30\n",
      "COMET INFO:     loss                          : squared_hinge\n",
      "COMET INFO:     max_depth                     : 10\n",
      "COMET INFO:     max_df                        : 0.8\n",
      "COMET INFO:     max_features                  : auto\n",
      "COMET INFO:     max_iter                      : 10000\n",
      "COMET INFO:     max_leaf_nodes                : 1\n",
      "COMET INFO:     max_samples                   : 1\n",
      "COMET INFO:     memory                        : 1\n",
      "COMET INFO:     metric                        : minkowski\n",
      "COMET INFO:     metric_params                 : 1\n",
      "COMET INFO:     min_df                        : 2\n",
      "COMET INFO:     min_impurity_decrease         : 0.0\n",
      "COMET INFO:     min_samples_leaf              : 1\n",
      "COMET INFO:     min_samples_split             : 2\n",
      "COMET INFO:     min_weight_fraction_leaf      : 0.0\n",
      "COMET INFO:     model_type                    : lsvc_op\n",
      "COMET INFO:     multi_class                   : ovr\n",
      "COMET INFO:     n_estimators                  : 1000\n",
      "COMET INFO:     n_jobs                        : 1\n",
      "COMET INFO:     n_neighbors                   : 5\n",
      "COMET INFO:     neg_label                     : 0\n",
      "COMET INFO:     ngram_range                   : (1, 3)\n",
      "COMET INFO:     norm                          : l2\n",
      "COMET INFO:     oob_score                     : False\n",
      "COMET INFO:     p                             : 2\n",
      "COMET INFO:     penalty                       : l2\n",
      "COMET INFO:     pos_label                     : 1\n",
      "COMET INFO:     random_state                  : 42\n",
      "COMET INFO:     smooth_idf                    : True\n",
      "COMET INFO:     solver                        : lbfgs\n",
      "COMET INFO:     sparse_output                 : False\n",
      "COMET INFO:     splitter                      : best\n",
      "COMET INFO:     steps                         : [('tfidf', TfidfVectorizer(max_df=0.8, min_df=2, ngram_range=(1, 2))), ('clf', LinearSVC(C=0.3, class_weight='balanced', max_iter=100))]\n",
      "COMET INFO:     sublinear_tf                  : False\n",
      "COMET INFO:     tfidf                         : TfidfVectorizer(max_df=0.8, min_df=2, ngram_range=(1, 2))\n",
      "COMET INFO:     tfidf__analyzer               : word\n",
      "COMET INFO:     tfidf__binary                 : False\n",
      "COMET INFO:     tfidf__decode_error           : strict\n",
      "COMET INFO:     tfidf__dtype                  : <class 'numpy.float64'>\n",
      "COMET INFO:     tfidf__encoding               : utf-8\n",
      "COMET INFO:     tfidf__input                  : content\n",
      "COMET INFO:     tfidf__lowercase              : True\n",
      "COMET INFO:     tfidf__max_df                 : 0.8\n",
      "COMET INFO:     tfidf__max_features           : 1\n",
      "COMET INFO:     tfidf__min_df                 : 2\n",
      "COMET INFO:     tfidf__ngram_range            : (1, 2)\n",
      "COMET INFO:     tfidf__norm                   : l2\n",
      "COMET INFO:     tfidf__preprocessor           : 1\n",
      "COMET INFO:     tfidf__smooth_idf             : True\n",
      "COMET INFO:     tfidf__stop_words             : 1\n"
     ]
    },
    {
     "name": "stderr",
     "output_type": "stream",
     "text": [
      "COMET INFO:     tfidf__strip_accents          : 1\n",
      "COMET INFO:     tfidf__sublinear_tf           : False\n",
      "COMET INFO:     tfidf__token_pattern          : (?u)\\b\\w\\w+\\b\n",
      "COMET INFO:     tfidf__tokenizer              : 1\n",
      "COMET INFO:     tfidf__use_idf                : True\n",
      "COMET INFO:     tfidf__vocabulary             : 1\n",
      "COMET INFO:     tfidf_analyzer                : word\n",
      "COMET INFO:     tfidf_binary                  : False\n",
      "COMET INFO:     tfidf_decode_error            : strict\n",
      "COMET INFO:     tfidf_dtype                   : <class 'numpy.float64'>\n",
      "COMET INFO:     tfidf_encoding                : utf-8\n",
      "COMET INFO:     tfidf_input                   : content\n",
      "COMET INFO:     tfidf_lowercase               : True\n",
      "COMET INFO:     tfidf_max_df                  : 0.8\n",
      "COMET INFO:     tfidf_max_features            : 1\n",
      "COMET INFO:     tfidf_min_df                  : 2\n",
      "COMET INFO:     tfidf_ngram_range             : (1, 2)\n",
      "COMET INFO:     tfidf_norm                    : l2\n",
      "COMET INFO:     tfidf_preprocessor            : 1\n",
      "COMET INFO:     tfidf_smooth_idf              : True\n",
      "COMET INFO:     tfidf_stop_words              : 1\n",
      "COMET INFO:     tfidf_strip_accents           : 1\n",
      "COMET INFO:     tfidf_sublinear_tf            : False\n",
      "COMET INFO:     tfidf_token_pattern           : (?u)\\b\\w\\w+\\b\n",
      "COMET INFO:     tfidf_tokenizer               : 1\n",
      "COMET INFO:     tfidf_use_idf                 : True\n",
      "COMET INFO:     tfidf_vocabulary              : 1\n",
      "COMET INFO:     tol                           : 0.0001\n",
      "COMET INFO:     use_idf                       : True\n",
      "COMET INFO:     verbose                       : False\n",
      "COMET INFO:     warm_start                    : False\n",
      "COMET INFO:     weights                       : uniform\n",
      "COMET INFO:   Uploads:\n",
      "COMET INFO:     conda-info          : 1\n",
      "COMET INFO:     conda-specification : 1\n",
      "COMET INFO:     environment details : 1\n",
      "COMET INFO:     filename            : 1\n",
      "COMET INFO:     installed packages  : 1\n",
      "COMET INFO:     notebook            : 1\n",
      "COMET INFO:     source_code         : 1\n",
      "COMET INFO: ---------------------------\n",
      "COMET INFO: Uploading metrics, params, and assets to Comet before program termination (may take several seconds)\n",
      "COMET INFO: The Python SDK has 3600 seconds to finish before aborting...\n"
     ]
    }
   ],
   "source": [
    "experiment.end()"
   ]
  },
  {
   "cell_type": "markdown",
   "id": "7c8cc00f",
   "metadata": {},
   "source": [
    " <a id=\"eight\"></a>\n",
    "## 8. Submission\n",
    "<a href=#cont>Back to Table of Contents</a>\n"
   ]
  },
  {
   "cell_type": "code",
   "execution_count": 36,
   "id": "8f109586",
   "metadata": {},
   "outputs": [
    {
     "name": "stderr",
     "output_type": "stream",
     "text": [
      "C:\\Users\\yinka\\AppData\\Local\\Temp\\ipykernel_19368\\4152600230.py:5: SettingWithCopyWarning: \n",
      "A value is trying to be set on a copy of a slice from a DataFrame\n",
      "\n",
      "See the caveats in the documentation: https://pandas.pydata.org/pandas-docs/stable/user_guide/indexing.html#returning-a-view-versus-a-copy\n",
      "  test['text'][i] = re.sub(r\"(@[A-Za-z0-9_]+)|[^\\w\\s]|http\\S+\",\"\",test['text'][i])\n"
     ]
    },
    {
     "data": {
      "text/html": [
       "<div>\n",
       "<style scoped>\n",
       "    .dataframe tbody tr th:only-of-type {\n",
       "        vertical-align: middle;\n",
       "    }\n",
       "\n",
       "    .dataframe tbody tr th {\n",
       "        vertical-align: top;\n",
       "    }\n",
       "\n",
       "    .dataframe thead th {\n",
       "        text-align: right;\n",
       "    }\n",
       "</style>\n",
       "<table border=\"1\" class=\"dataframe\">\n",
       "  <thead>\n",
       "    <tr style=\"text-align: right;\">\n",
       "      <th></th>\n",
       "      <th>index</th>\n",
       "      <th>lang_id</th>\n",
       "    </tr>\n",
       "  </thead>\n",
       "  <tbody>\n",
       "    <tr>\n",
       "      <th>0</th>\n",
       "      <td>1</td>\n",
       "      <td>tsn</td>\n",
       "    </tr>\n",
       "    <tr>\n",
       "      <th>1</th>\n",
       "      <td>2</td>\n",
       "      <td>nbl</td>\n",
       "    </tr>\n",
       "    <tr>\n",
       "      <th>2</th>\n",
       "      <td>3</td>\n",
       "      <td>ven</td>\n",
       "    </tr>\n",
       "    <tr>\n",
       "      <th>3</th>\n",
       "      <td>4</td>\n",
       "      <td>ssw</td>\n",
       "    </tr>\n",
       "    <tr>\n",
       "      <th>4</th>\n",
       "      <td>5</td>\n",
       "      <td>afr</td>\n",
       "    </tr>\n",
       "    <tr>\n",
       "      <th>...</th>\n",
       "      <td>...</td>\n",
       "      <td>...</td>\n",
       "    </tr>\n",
       "    <tr>\n",
       "      <th>5677</th>\n",
       "      <td>5678</td>\n",
       "      <td>eng</td>\n",
       "    </tr>\n",
       "    <tr>\n",
       "      <th>5678</th>\n",
       "      <td>5679</td>\n",
       "      <td>nso</td>\n",
       "    </tr>\n",
       "    <tr>\n",
       "      <th>5679</th>\n",
       "      <td>5680</td>\n",
       "      <td>sot</td>\n",
       "    </tr>\n",
       "    <tr>\n",
       "      <th>5680</th>\n",
       "      <td>5681</td>\n",
       "      <td>sot</td>\n",
       "    </tr>\n",
       "    <tr>\n",
       "      <th>5681</th>\n",
       "      <td>5682</td>\n",
       "      <td>nbl</td>\n",
       "    </tr>\n",
       "  </tbody>\n",
       "</table>\n",
       "<p>5682 rows × 2 columns</p>\n",
       "</div>"
      ],
      "text/plain": [
       "      index lang_id\n",
       "0         1     tsn\n",
       "1         2     nbl\n",
       "2         3     ven\n",
       "3         4     ssw\n",
       "4         5     afr\n",
       "...     ...     ...\n",
       "5677   5678     eng\n",
       "5678   5679     nso\n",
       "5679   5680     sot\n",
       "5680   5681     sot\n",
       "5681   5682     nbl\n",
       "\n",
       "[5682 rows x 2 columns]"
      ]
     },
     "execution_count": 36,
     "metadata": {},
     "output_type": "execute_result"
    }
   ],
   "source": [
    "test = pd.read_csv('resources/test_set.csv')\n",
    "\n",
    "\n",
    "for i in range (len(test['text'])):\n",
    "    test['text'][i] = re.sub(r\"(@[A-Za-z0-9_]+)|[^\\w\\s]|http\\S+\",\"\",test['text'][i])\n",
    "\n",
    "test_pred = nb.predict(test['text'])\n",
    "\n",
    "output = pd.DataFrame({'index': test['index'],\n",
    "                       'lang_id': test_pred})\n",
    "\n",
    "output.to_csv('resources/nb_submission.csv', index=False)\n",
    "\n",
    "output"
   ]
  }
 ],
 "metadata": {
  "kernelspec": {
   "display_name": "Python 3 (ipykernel)",
   "language": "python",
   "name": "python3"
  },
  "language_info": {
   "codemirror_mode": {
    "name": "ipython",
    "version": 3
   },
   "file_extension": ".py",
   "mimetype": "text/x-python",
   "name": "python",
   "nbconvert_exporter": "python",
   "pygments_lexer": "ipython3",
   "version": "3.9.7"
  },
  "latex_envs": {
   "LaTeX_envs_menu_present": true,
   "autoclose": false,
   "autocomplete": true,
   "bibliofile": "biblio.bib",
   "cite_by": "apalike",
   "current_citInitial": 1,
   "eqLabelWithNumbers": true,
   "eqNumInitial": 1,
   "hotkeys": {
    "equation": "Ctrl-E",
    "itemize": "Ctrl-I"
   },
   "labels_anchors": false,
   "latex_user_defs": false,
   "report_style_numbering": false,
   "user_envs_cfg": false
  },
  "toc": {
   "base_numbering": 1,
   "nav_menu": {},
   "number_sections": true,
   "sideBar": true,
   "skip_h1_title": false,
   "title_cell": "Table of Contents",
   "title_sidebar": "Contents",
   "toc_cell": false,
   "toc_position": {},
   "toc_section_display": true,
   "toc_window_display": false
  },
  "varInspector": {
   "cols": {
    "lenName": 16,
    "lenType": 16,
    "lenVar": 40
   },
   "kernels_config": {
    "python": {
     "delete_cmd_postfix": "",
     "delete_cmd_prefix": "del ",
     "library": "var_list.py",
     "varRefreshCmd": "print(var_dic_list())"
    },
    "r": {
     "delete_cmd_postfix": ") ",
     "delete_cmd_prefix": "rm(",
     "library": "var_list.r",
     "varRefreshCmd": "cat(var_dic_list()) "
    }
   },
   "types_to_exclude": [
    "module",
    "function",
    "builtin_function_or_method",
    "instance",
    "_Feature"
   ],
   "window_display": false
  }
 },
 "nbformat": 4,
 "nbformat_minor": 5
}
